{
  "nbformat": 4,
  "nbformat_minor": 0,
  "metadata": {
    "colab": {
      "name": "ADS2_Assignment_1_Data_Handling_and_Preparation.ipynb",
      "provenance": [],
      "collapsed_sections": []
    },
    "kernelspec": {
      "name": "python3",
      "display_name": "Python 3"
    },
    "language_info": {
      "name": "python"
    }
  },
  "cells": [
    {
      "cell_type": "markdown",
      "source": [
        "# ADS2 - Assignment 1 - Data Handling and Preparation\n",
        "\n",
        "In this assignment, you will be analysing the popularity of films and TV shows on the streaming platform, Netflix. Using your knowledge of PySpark DataFrames and Spark SQL, you will produce a number of \"downstream\" data products to analyse trends in global streaming habits.\n",
        "\n",
        "Download the dataset from this [Kaggle](https://www.kaggle.com/dhruvildave/netflix-top-10-tv-shows-and-films) page. A copy of the `all_weeks_countries.csv` file is also available on the canvas page for this assignment.\n",
        "\n",
        "Your task is to load in the data and produce a number of \"downstream\" data products and plots as described below.\n",
        "\n",
        "The PySpark installation and setup is provided below for conveinience."
      ],
      "metadata": {
        "id": "ViQdeQ5m1E2Z"
      }
    },
    {
      "cell_type": "code",
      "execution_count": 1,
      "metadata": {
        "id": "5lb-Z7ZM8O3s"
      },
      "outputs": [],
      "source": [
        "# Apache Spark uses Java, so first we must install that\n",
        "!apt-get install openjdk-8-jdk-headless -qq > /dev/null"
      ]
    },
    {
      "cell_type": "code",
      "source": [
        "# Download and unpack the latest version of Spark (3.2.0 as of writing)\n",
        "!wget -q https://archive.apache.org/dist/spark/spark-3.2.0/spark-3.2.0-bin-hadoop3.2.tgz\n",
        "!tar xf spark-3.2.0-bin-hadoop3.2.tgz"
      ],
      "metadata": {
        "id": "ixa72o938SKP"
      },
      "execution_count": 2,
      "outputs": []
    },
    {
      "cell_type": "code",
      "source": [
        "# Set up environment variables\n",
        "import os\n",
        "os.environ[\"JAVA_HOME\"] = \"/usr/lib/jvm/java-8-openjdk-amd64\"\n",
        "os.environ[\"SPARK_HOME\"] = \"/content/spark-3.2.0-bin-hadoop3.2\""
      ],
      "metadata": {
        "id": "yWT7_XiQ8V6u"
      },
      "execution_count": 3,
      "outputs": []
    },
    {
      "cell_type": "code",
      "source": [
        "# Install findspark, which helps python locate the psyspark module files\n",
        "!pip install -q findspark\n",
        "import findspark\n",
        "findspark.init()"
      ],
      "metadata": {
        "id": "UPSvq-aj8Z_k"
      },
      "execution_count": 4,
      "outputs": []
    },
    {
      "cell_type": "code",
      "source": [
        "# Finally, we initialse a \"SparkSession\", which handles the computations\n",
        "from pyspark.sql import SparkSession\n",
        "spark = SparkSession.builder\\\n",
        "        .master(\"local\")\\\n",
        "        .appName(\"Colab\")\\\n",
        "        .config('spark.ui.port', '4050')\\\n",
        "        .getOrCreate()"
      ],
      "metadata": {
        "id": "kXT8Q_IO8cVe"
      },
      "execution_count": 5,
      "outputs": []
    },
    {
      "cell_type": "markdown",
      "source": [
        "# Exercise 1 - Data Preparation (5 Marks)\n",
        "\n",
        "\n",
        "1.   Load the `all_weeks_countries.csv` into your Colab Notebook as a DataFrame.\n",
        "2.   Create two separate DataFrames for Films and TV.\n",
        "3.   For the Films data, drop the column containing the season names.\n",
        "4.   For the TV data, replace any null values in the season name column with the show name."
      ],
      "metadata": {
        "id": "yfW6RnY_GZpE"
      }
    },
    {
      "cell_type": "code",
      "source": [
        "# pyspark.sql.functions countains all the transformations and actions you will\n",
        "# need\n",
        "from pyspark.sql import functions as F"
      ],
      "metadata": {
        "id": "adZdlbyGL7Mj"
      },
      "execution_count": 6,
      "outputs": []
    },
    {
      "cell_type": "code",
      "source": [
        "### Load the all_weeks_countries.csv into your Colab Notebook as a DataFrame.\n",
        "\n",
        "# The file path\n",
        "usersCsvPath = \"/content/sample_data/all_weeks_countries.csv\"\n",
        "\n",
        "# Query to read data\n",
        "NetflixDF = (spark\n",
        "             .read\n",
        "             .option('header', True)\n",
        "             .option('inferSchema', True)\n",
        "             .csv(usersCsvPath))"
      ],
      "metadata": {
        "id": "I7PS8iZgqwjt"
      },
      "execution_count": 7,
      "outputs": []
    },
    {
      "cell_type": "code",
      "source": [
        "### Display the table and its schema\n",
        "\n",
        "# Display Table\n",
        "NetflixDF.show(5)\n",
        "# Display Schema\n",
        "NetflixDF.printSchema()"
      ],
      "metadata": {
        "id": "aOKWP2lgu7p4",
        "colab": {
          "base_uri": "https://localhost:8080/"
        },
        "outputId": "b6bb96fe-dc8a-45fc-9be4-8726955bd105"
      },
      "execution_count": 8,
      "outputs": [
        {
          "output_type": "stream",
          "name": "stdout",
          "text": [
            "+------------+------------+----------+--------+-----------+--------------------+------------+--------------------------+\n",
            "|country_name|country_iso2|      week|category|weekly_rank|          show_title|season_title|cumulative_weeks_in_top_10|\n",
            "+------------+------------+----------+--------+-----------+--------------------+------------+--------------------------+\n",
            "|   Argentina|          AR|2022-02-13|   Films|          1| The Tinder Swindler|        null|                         2|\n",
            "|   Argentina|          AR|2022-02-13|   Films|          2|   Through My Window|        null|                         2|\n",
            "|   Argentina|          AR|2022-02-13|   Films|          3|         Tall Girl 2|        null|                         1|\n",
            "|   Argentina|          AR|2022-02-13|   Films|          4|13 Hours: The Sec...|        null|                         2|\n",
            "|   Argentina|          AR|2022-02-13|   Films|          5|       Into the Wind|        null|                         1|\n",
            "+------------+------------+----------+--------+-----------+--------------------+------------+--------------------------+\n",
            "only showing top 5 rows\n",
            "\n",
            "root\n",
            " |-- country_name: string (nullable = true)\n",
            " |-- country_iso2: string (nullable = true)\n",
            " |-- week: string (nullable = true)\n",
            " |-- category: string (nullable = true)\n",
            " |-- weekly_rank: integer (nullable = true)\n",
            " |-- show_title: string (nullable = true)\n",
            " |-- season_title: string (nullable = true)\n",
            " |-- cumulative_weeks_in_top_10: integer (nullable = true)\n",
            "\n"
          ]
        }
      ]
    },
    {
      "cell_type": "code",
      "source": [
        "### Seperate the data into two DataFrames for Films and TV\n",
        "from pyspark.sql.functions import col\n",
        "\n",
        "Netflix_films = NetflixDF.filter(col('category') == \"Films\") # Films dataframe\n",
        "Netflix_TV = NetflixDF.filter(col('category') == \"TV\") # TV dataframe\n",
        "Netflix_films.show(5)\n",
        "Netflix_TV.show(5)"
      ],
      "metadata": {
        "id": "7Tswrm6ERoYR",
        "colab": {
          "base_uri": "https://localhost:8080/"
        },
        "outputId": "9e00178e-a6fa-4006-f850-dab3b510eb79"
      },
      "execution_count": 9,
      "outputs": [
        {
          "output_type": "stream",
          "name": "stdout",
          "text": [
            "+------------+------------+----------+--------+-----------+--------------------+------------+--------------------------+\n",
            "|country_name|country_iso2|      week|category|weekly_rank|          show_title|season_title|cumulative_weeks_in_top_10|\n",
            "+------------+------------+----------+--------+-----------+--------------------+------------+--------------------------+\n",
            "|   Argentina|          AR|2022-02-13|   Films|          1| The Tinder Swindler|        null|                         2|\n",
            "|   Argentina|          AR|2022-02-13|   Films|          2|   Through My Window|        null|                         2|\n",
            "|   Argentina|          AR|2022-02-13|   Films|          3|         Tall Girl 2|        null|                         1|\n",
            "|   Argentina|          AR|2022-02-13|   Films|          4|13 Hours: The Sec...|        null|                         2|\n",
            "|   Argentina|          AR|2022-02-13|   Films|          5|       Into the Wind|        null|                         1|\n",
            "+------------+------------+----------+--------+-----------+--------------------+------------+--------------------------+\n",
            "only showing top 5 rows\n",
            "\n",
            "+------------+------------+----------+--------+-----------+--------------------+--------------------+--------------------------+\n",
            "|country_name|country_iso2|      week|category|weekly_rank|          show_title|        season_title|cumulative_weeks_in_top_10|\n",
            "+------------+------------+----------+--------+-----------+--------------------+--------------------+--------------------------+\n",
            "|   Argentina|          AR|2022-02-13|      TV|          1|Café con aroma de...|Café con aroma de...|                         7|\n",
            "|   Argentina|          AR|2022-02-13|      TV|          2|  All of Us Are Dead|All of Us Are Dea...|                         3|\n",
            "|   Argentina|          AR|2022-02-13|      TV|          3|   The Queen of Flow|The Queen of Flow...|                        13|\n",
            "|   Argentina|          AR|2022-02-13|      TV|          4|         Dark Desire|Dark Desire: Seas...|                         2|\n",
            "|   Argentina|          AR|2022-02-13|      TV|          5|         El marginal|El marginal: Seas...|                         4|\n",
            "+------------+------------+----------+--------+-----------+--------------------+--------------------+--------------------------+\n",
            "only showing top 5 rows\n",
            "\n"
          ]
        }
      ]
    },
    {
      "cell_type": "code",
      "source": [
        "### Drop the 'season_title' column from the Films DataFrame, display the table\n",
        "\n",
        "# Drop the column Season_title\n",
        "Netflix_films = Netflix_films.drop(col('season_title'))\n",
        "# Display Table\n",
        "Netflix_films.show()\n"
      ],
      "metadata": {
        "id": "l900Ys9CRuEX",
        "colab": {
          "base_uri": "https://localhost:8080/"
        },
        "outputId": "6ca4758f-9b25-43ce-f25d-56fb6d12016c"
      },
      "execution_count": 10,
      "outputs": [
        {
          "output_type": "stream",
          "name": "stdout",
          "text": [
            "+------------+------------+----------+--------+-----------+--------------------+--------------------------+\n",
            "|country_name|country_iso2|      week|category|weekly_rank|          show_title|cumulative_weeks_in_top_10|\n",
            "+------------+------------+----------+--------+-----------+--------------------+--------------------------+\n",
            "|   Argentina|          AR|2022-02-13|   Films|          1| The Tinder Swindler|                         2|\n",
            "|   Argentina|          AR|2022-02-13|   Films|          2|   Through My Window|                         2|\n",
            "|   Argentina|          AR|2022-02-13|   Films|          3|         Tall Girl 2|                         1|\n",
            "|   Argentina|          AR|2022-02-13|   Films|          4|13 Hours: The Sec...|                         2|\n",
            "|   Argentina|          AR|2022-02-13|   Films|          5|       Into the Wind|                         1|\n",
            "|   Argentina|          AR|2022-02-13|   Films|          6|       The Privilege|                         1|\n",
            "|   Argentina|          AR|2022-02-13|   Films|          7|Dora and the Lost...|                         1|\n",
            "|   Argentina|          AR|2022-02-13|   Films|          8|Believe Me: The A...|                         2|\n",
            "|   Argentina|          AR|2022-02-13|   Films|          9|      Righteous Kill|                         1|\n",
            "|   Argentina|          AR|2022-02-13|   Films|         10|The Secret Life o...|                         5|\n",
            "|   Argentina|          AR|2022-02-06|   Films|          1|   Through My Window|                         1|\n",
            "|   Argentina|          AR|2022-02-06|   Films|          2| The Tinder Swindler|                         1|\n",
            "|   Argentina|          AR|2022-02-06|   Films|          3|My Best Friend An...|                         1|\n",
            "|   Argentina|          AR|2022-02-06|   Films|          4|           Home Team|                         2|\n",
            "|   Argentina|          AR|2022-02-06|   Films|          5|13 Hours: The Sec...|                         1|\n",
            "|   Argentina|          AR|2022-02-06|   Films|          6|The Secret Life o...|                         4|\n",
            "|   Argentina|          AR|2022-02-06|   Films|          7|Believe Me: The A...|                         1|\n",
            "|   Argentina|          AR|2022-02-06|   Films|          8|      Precious Cargo|                         1|\n",
            "|   Argentina|          AR|2022-02-06|   Films|          9|         THE CRAZIES|                         1|\n",
            "|   Argentina|          AR|2022-02-06|   Films|         10|              Faster|                         1|\n",
            "+------------+------------+----------+--------+-----------+--------------------+--------------------------+\n",
            "only showing top 20 rows\n",
            "\n"
          ]
        }
      ]
    },
    {
      "cell_type": "code",
      "source": [
        "### Replace any null values in 'season_name' in the TV DataFrame with the\n",
        "### corresponding 'show_name', display the table\n",
        "\n",
        "from pyspark.sql.functions import coalesce\n",
        "# replacing Null values with corresponding values of show_name column    \n",
        "Netflix_TV = Netflix_TV.withColumn(\"season_title\",coalesce(Netflix_TV.season_title,Netflix_TV.show_title))\n",
        "#Display table\n",
        "Netflix_TV.show(truncate = False)\n"
      ],
      "metadata": {
        "id": "vOaMUa3-R4Ks",
        "colab": {
          "base_uri": "https://localhost:8080/"
        },
        "outputId": "0f3986f8-1fef-49c7-b188-8f49e39ed9aa"
      },
      "execution_count": 11,
      "outputs": [
        {
          "output_type": "stream",
          "name": "stdout",
          "text": [
            "+------------+------------+----------+--------+-----------+-------------------------------+-----------------------------------------+--------------------------+\n",
            "|country_name|country_iso2|week      |category|weekly_rank|show_title                     |season_title                             |cumulative_weeks_in_top_10|\n",
            "+------------+------------+----------+--------+-----------+-------------------------------+-----------------------------------------+--------------------------+\n",
            "|Argentina   |AR          |2022-02-13|TV      |1          |Café con aroma de mujer        |Café con aroma de mujer: Season 1        |7                         |\n",
            "|Argentina   |AR          |2022-02-13|TV      |2          |All of Us Are Dead             |All of Us Are Dead: Season 1             |3                         |\n",
            "|Argentina   |AR          |2022-02-13|TV      |3          |The Queen of Flow              |The Queen of Flow: Season 2              |13                        |\n",
            "|Argentina   |AR          |2022-02-13|TV      |4          |Dark Desire                    |Dark Desire: Season 2                    |2                         |\n",
            "|Argentina   |AR          |2022-02-13|TV      |5          |El marginal                    |El marginal: Season 4                    |4                         |\n",
            "|Argentina   |AR          |2022-02-13|TV      |6          |Inventing Anna                 |Inventing Anna: Limited Series           |1                         |\n",
            "|Argentina   |AR          |2022-02-13|TV      |7          |Pasión de Gavilanes            |Pasión de Gavilanes: Season 1            |33                        |\n",
            "|Argentina   |AR          |2022-02-13|TV      |8          |Sweet Magnolias                |Sweet Magnolias: Season 2                |1                         |\n",
            "|Argentina   |AR          |2022-02-13|TV      |9          |The Queen of Flow              |The Queen of Flow: Season 1              |15                        |\n",
            "|Argentina   |AR          |2022-02-13|TV      |10         |Dark Desire                    |Dark Desire: Season 1                    |1                         |\n",
            "|Argentina   |AR          |2022-02-06|TV      |1          |Café con aroma de mujer        |Café con aroma de mujer: Season 1        |6                         |\n",
            "|Argentina   |AR          |2022-02-06|TV      |2          |All of Us Are Dead             |All of Us Are Dead: Season 1             |2                         |\n",
            "|Argentina   |AR          |2022-02-06|TV      |3          |El marginal                    |El marginal: Season 4                    |3                         |\n",
            "|Argentina   |AR          |2022-02-06|TV      |4          |The Queen of Flow              |The Queen of Flow: Season 2              |12                        |\n",
            "|Argentina   |AR          |2022-02-06|TV      |5          |Dark Desire                    |Dark Desire: Season 2                    |1                         |\n",
            "|Argentina   |AR          |2022-02-06|TV      |6          |The Sinner                     |The Sinner: Season 4: Percy              |2                         |\n",
            "|Argentina   |AR          |2022-02-06|TV      |7          |Pasión de Gavilanes            |Pasión de Gavilanes: Season 1            |32                        |\n",
            "|Argentina   |AR          |2022-02-06|TV      |8          |The Queen of Flow              |The Queen of Flow: Season 1              |14                        |\n",
            "|Argentina   |AR          |2022-02-06|TV      |9          |Boruto: Naruto Next Generations|Boruto: Naruto Next Generations: Season 1|1                         |\n",
            "|Argentina   |AR          |2022-02-06|TV      |10         |El marginal                    |El marginal: Season 1                    |3                         |\n",
            "+------------+------------+----------+--------+-----------+-------------------------------+-----------------------------------------+--------------------------+\n",
            "only showing top 20 rows\n",
            "\n"
          ]
        }
      ]
    },
    {
      "cell_type": "markdown",
      "source": [
        "# Exercise 2 - Most popular seasons by country (15 Marks)\n",
        "\n",
        "1.   For each country in the data, find the highest rank each season of TV reached, and the number of weeks it spent in the top 10.\n",
        "2.   Produce a DataFrame that contains the season of TV which spent the most time in each country's top 10.\n",
        "3.   Produce a pie chart which shows how many countries the most popular seasons of TV occurred in. \n"
      ],
      "metadata": {
        "id": "rAHZm5_9IzTn"
      }
    },
    {
      "cell_type": "code",
      "source": [
        "### Group the data by 'country_name' and 'season_title' and find the highest\n",
        "### weekly rank and total weeks spent in the top 10 for each show, display the\n",
        "### data\n",
        "# .groupBy, .agg, F.max, F.min, .sort, .show\n",
        "\n",
        "\n",
        "Netflix_TV.groupBy('country_name','season_title')\\\n",
        "          .agg(F.max('cumulative_weeks_in_top_10').alias('Max_weeks_in_Top_10'), \n",
        "               F.min('weekly_rank').alias('highest_rank')) \\\n",
        "          .sort('country_name').show(truncate = False)\n",
        "                                                      \n",
        "         "
      ],
      "metadata": {
        "id": "8SGNNEcOKLhX",
        "colab": {
          "base_uri": "https://localhost:8080/"
        },
        "outputId": "f29f6722-2a2b-4f90-d67b-68f9613c03e5"
      },
      "execution_count": 12,
      "outputs": [
        {
          "output_type": "stream",
          "name": "stdout",
          "text": [
            "+------------+----------------------------------+-------------------+------------+\n",
            "|country_name|season_title                      |Max_weeks_in_Top_10|highest_rank|\n",
            "+------------+----------------------------------+-------------------+------------+\n",
            "|Argentina   |Luis Miguel - The Series: Season 3|3                  |1           |\n",
            "|Argentina   |Archive 81: Season 1              |1                  |4           |\n",
            "|Argentina   |Ganglands: Season 1               |1                  |7           |\n",
            "|Argentina   |Sweet Magnolias: Season 2         |1                  |8           |\n",
            "|Argentina   |Grey's Anatomy: Season 17         |4                  |3           |\n",
            "|Argentina   |Good Girls: Season 4              |2                  |6           |\n",
            "|Argentina   |Elite: Season 4                   |3                  |3           |\n",
            "|Argentina   |Locke & Key: Season 2             |2                  |7           |\n",
            "|Argentina   |Sky Rojo: Season 2                |3                  |2           |\n",
            "|Argentina   |Dark Desire: Season 2             |2                  |4           |\n",
            "|Argentina   |Titans: Season 3                  |2                  |4           |\n",
            "|Argentina   |Narcos: Mexico: Season 3          |2                  |3           |\n",
            "|Argentina   |My Name: Season 1                 |3                  |4           |\n",
            "|Argentina   |The Witcher: Season 1             |2                  |7           |\n",
            "|Argentina   |Valeria: Season 2                 |2                  |3           |\n",
            "|Argentina   |Sex Education: Season 1           |1                  |3           |\n",
            "|Argentina   |Lost in Space: Season 3           |2                  |5           |\n",
            "|Argentina   |Riverdale: Season 5               |2                  |7           |\n",
            "|Argentina   |Alice in Borderland: Season 1     |1                  |8           |\n",
            "|Argentina   |You: Season 2                     |1                  |9           |\n",
            "+------------+----------------------------------+-------------------+------------+\n",
            "only showing top 20 rows\n",
            "\n"
          ]
        }
      ]
    },
    {
      "cell_type": "code",
      "source": [
        "### Find the season that spent the most time in each country's top 10 list.\n",
        "### Produce and display a table showing that information, along with the number\n",
        "### of weeks spent in the top 10, and the highest weekly ranking\n",
        "# .groupBy, .sort, .desc, .agg, F.first, .show\n",
        "\n",
        "#Temporarily creating a table \n",
        "Netflix_TV_temp =  Netflix_TV.groupBy('country_name','season_title') \\\n",
        "                             .agg(F.max('cumulative_weeks_in_top_10').alias('Max_weeks_in_Top_10'), \n",
        "                                  F.min('weekly_rank').alias('highest_rank'))\\\n",
        "                             .sort('country_name')\n",
        "#Using the table to get the desired output\n",
        "Countries_season_list = Netflix_TV_temp.sort(col('country_name').asc(), col('max_weeks_in_top_10').desc()) \\\n",
        "                                       .groupBy('country_name')\\\n",
        "                                       .agg(F.first('season_title').alias('season_title'),\n",
        "                                            F.max('max_weeks_in_top_10').alias('max_weeks_in_top_10'),\n",
        "                                            F.first('highest_rank').alias('highest_rank'))\n",
        "          \n",
        "Countries_season_list.show(truncate = False)"
      ],
      "metadata": {
        "id": "KTkWmAhdWs4Y",
        "colab": {
          "base_uri": "https://localhost:8080/"
        },
        "outputId": "2e08afd7-2548-4052-d7d2-86681c43cf6d"
      },
      "execution_count": 13,
      "outputs": [
        {
          "output_type": "stream",
          "name": "stdout",
          "text": [
            "+------------------+-------------------------------+-------------------+------------+\n",
            "|country_name      |season_title                   |max_weeks_in_top_10|highest_rank|\n",
            "+------------------+-------------------------------+-------------------+------------+\n",
            "|Argentina         |Pasión de Gavilanes: Season 1  |33                 |4           |\n",
            "|Australia         |Maid: Limited Series           |12                 |1           |\n",
            "|Austria           |Squid Game: Season 1           |12                 |1           |\n",
            "|Bahamas           |SpongeBob SquarePants: Season 9|15                 |3           |\n",
            "|Bahrain           |Squid Game: Season 1           |16                 |1           |\n",
            "|Bangladesh        |Squid Game: Season 1           |20                 |1           |\n",
            "|Belgium           |Money Heist: Part 5            |12                 |1           |\n",
            "|Bolivia           |Yo soy Betty, la fea: Season 1 |33                 |1           |\n",
            "|Brazil            |Chiquititas                    |27                 |2           |\n",
            "|Bulgaria          |Squid Game: Season 1           |16                 |1           |\n",
            "|Canada            |Maid: Limited Series           |12                 |2           |\n",
            "|Chile             |Yo soy Betty, la fea: Season 1 |33                 |1           |\n",
            "|Colombia          |Yo soy Betty, la fea: Season 1 |33                 |3           |\n",
            "|Costa Rica        |Pasión de Gavilanes: Season 1  |33                 |2           |\n",
            "|Croatia           |Squid Game: Season 1           |15                 |1           |\n",
            "|Cyprus            |The Good Doctor: Season 4      |16                 |4           |\n",
            "|Czech Republic    |Squid Game: Season 1           |19                 |1           |\n",
            "|Denmark           |Squid Game: Season 1           |11                 |1           |\n",
            "|Dominican Republic|Pasión de Gavilanes: Season 1  |33                 |1           |\n",
            "|Ecuador           |Pasión de Gavilanes: Season 1  |33                 |1           |\n",
            "+------------------+-------------------------------+-------------------+------------+\n",
            "only showing top 20 rows\n",
            "\n"
          ]
        }
      ]
    },
    {
      "cell_type": "code",
      "source": [
        "### Count the number of countries where each season spent the most time in the\n",
        "### weekly top 10 lists\n",
        "# .groupBy, .agg, F.count\n",
        "\n",
        "# Counting the countries for each season\n",
        "Countries_season_list = Countries_season_list.groupby('season_title') \\\n",
        "                                             .agg(F.count('country_name').alias('country_count'))\\\n",
        "                                             .sort(col('country_count').desc())\n",
        "\n",
        "Countries_season_list.show(truncate = False)       "
      ],
      "metadata": {
        "id": "VeaR2m8HenIY",
        "colab": {
          "base_uri": "https://localhost:8080/"
        },
        "outputId": "ad3fa6f2-6edd-471b-e9dc-8faf658236ee"
      },
      "execution_count": 14,
      "outputs": [
        {
          "output_type": "stream",
          "name": "stdout",
          "text": [
            "+------------------------------------------+-------------+\n",
            "|season_title                              |country_count|\n",
            "+------------------------------------------+-------------+\n",
            "|Squid Game: Season 1                      |23           |\n",
            "|Pasión de Gavilanes: Season 1             |7            |\n",
            "|The Good Doctor: Season 1                 |7            |\n",
            "|Yo soy Betty, la fea: Season 1            |6            |\n",
            "|Money Heist: Part 1                       |5            |\n",
            "|Maid: Limited Series                      |4            |\n",
            "|Money Heist: Part 5                       |4            |\n",
            "|The Queen of Flow: Season 1               |3            |\n",
            "|PAW Patrol: Season 6                      |2            |\n",
            "|Vincenzo: Season 1                        |2            |\n",
            "|SpongeBob SquarePants: Season 9           |2            |\n",
            "|Pablo Escobar, el patrón del mal: Season 1|2            |\n",
            "|Hometown Cha-Cha-Cha: Season 1            |2            |\n",
            "|Carrossel                                 |1            |\n",
            "|The Good Doctor: Season 4                 |1            |\n",
            "|A Love to Last: Season 1                  |1            |\n",
            "|Crash Landing on You: Season 1            |1            |\n",
            "|Friends: Season 6                         |1            |\n",
            "|The Queen of Flow: Season 2               |1            |\n",
            "|Hospital Playlist: Season 2               |1            |\n",
            "+------------------------------------------+-------------+\n",
            "only showing top 20 rows\n",
            "\n"
          ]
        }
      ]
    },
    {
      "cell_type": "code",
      "source": [
        "### Convert the DataFrame to a Pandas DataFrame, and display it as a pie chart\n",
        "# .toPandas, .plot.pie\n",
        "\n",
        "# Converting to pandas DF\n",
        "Country_pd = Countries_season_list.toPandas()\n",
        "# Setting Index\n",
        "country_pd = Country_pd.set_index(['season_title'])\n",
        "# Plotting Pie chart\n",
        "Country_pd.plot.pie(y = 'country_count', title = 'Season Popularity', figsize = (7,7))\n"
      ],
      "metadata": {
        "id": "fKidncPQ8uDD",
        "colab": {
          "base_uri": "https://localhost:8080/",
          "height": 444
        },
        "outputId": "59b2e7e0-4d8f-4215-9033-e63e0bedd199"
      },
      "execution_count": 15,
      "outputs": [
        {
          "output_type": "execute_result",
          "data": {
            "text/plain": [
              "<matplotlib.axes._subplots.AxesSubplot at 0x7f4989cd22d0>"
            ]
          },
          "metadata": {},
          "execution_count": 15
        },
        {
          "output_type": "display_data",
          "data": {
            "text/plain": [
              "<Figure size 504x504 with 1 Axes>"
            ],
            "image/png": "[encoded data removed]"
          },
          "metadata": {}
        }
      ]
    },
    {
      "cell_type": "markdown",
      "source": [
        "# Exercise 3 - Most popular shows by country (10 Marks)\n",
        "\n",
        "\n",
        "1.   Calculate the number of weeks each TV show spent in each country's top 10, across all seasons, such that you don't double count a show when two or more seasons appear in one week.\n",
        "2.   Produce a DataFrame that contains the show which spent the most time in each country's top 10."
      ],
      "metadata": {
        "id": "_YOKr4khadrB"
      }
    },
    {
      "cell_type": "code",
      "source": [
        "### Group the data by 'country_name' and 'show_title' and count the number of\n",
        "### weeks each show appears in each country's top 10 lists, as well as the\n",
        "### highest weekly ranking. Display the data.\n",
        "# .groupBy, .agg, F.count_distinct, F.min, .sort, .show\n",
        "\n",
        "# Getting the highest rank and number of weeks in top10 for each show\n",
        "Netflix_TV.groupBy('country_name', 'show_title')\\\n",
        "          .agg(F.count_distinct('cumulative_weeks_in_top_10').alias('Weeks_in_Top10'),\n",
        "               F.min('weekly_rank').alias('highest_rank'))\\\n",
        "          .sort('country_name').show()"
      ],
      "metadata": {
        "id": "T4KuEbwgbJar",
        "colab": {
          "base_uri": "https://localhost:8080/"
        },
        "outputId": "cef82ece-ad68-4a1d-d908-95685db1a84b"
      },
      "execution_count": 16,
      "outputs": [
        {
          "output_type": "stream",
          "name": "stdout",
          "text": [
            "+------------+--------------------+--------------+------------+\n",
            "|country_name|          show_title|Weeks_in_Top10|highest_rank|\n",
            "+------------+--------------------+--------------+------------+\n",
            "|   Argentina|           Blindspot|             1|          10|\n",
            "|   Argentina|         Outer Banks|             2|           5|\n",
            "|   Argentina|          Archive 81|             1|           4|\n",
            "|   Argentina|           Ganglands|             1|           7|\n",
            "|   Argentina|             Lucifer|             3|           2|\n",
            "|   Argentina|              Arcane|             3|           3|\n",
            "|   Argentina|Daughter From Ano...|             1|           7|\n",
            "|   Argentina|        Señora Acero|             1|           9|\n",
            "|   Argentina|Yo soy Betty, la fea|            21|           6|\n",
            "|   Argentina|             The 100|             2|           5|\n",
            "|   Argentina|            Sky Rojo|             3|           2|\n",
            "|   Argentina|           Cobra Kai|             4|           1|\n",
            "|   Argentina|   The Queen of Flow|            15|           1|\n",
            "|   Argentina|           Control Z|             2|           8|\n",
            "|   Argentina|          PAW Patrol|             2|           7|\n",
            "|   Argentina|            Atypical|             3|           4|\n",
            "|   Argentina|             Rebelde|             2|           9|\n",
            "|   Argentina|           Hit & Run|             3|           3|\n",
            "|   Argentina|          Undercover|             1|           8|\n",
            "|   Argentina|   Never Have I Ever|             2|           7|\n",
            "+------------+--------------------+--------------+------------+\n",
            "only showing top 20 rows\n",
            "\n"
          ]
        }
      ]
    },
    {
      "cell_type": "code",
      "source": [
        "### Find the show that spent the most time in each country's top 10 list.\n",
        "### Produce and display a table showing that information, along with the number\n",
        "### of weeks spent in the top 10, and the highest weekly ranking\n",
        "# .groupBy, .sort, .desc, .agg, F.first, .show\n",
        "\n",
        "\n",
        "Netflix_TV_temp =  Netflix_TV.groupBy('country_name','show_title') \\\n",
        "                             .agg(F.max('cumulative_weeks_in_top_10').alias('Max_weeks_in_Top_10'), \n",
        "                                  F.min('weekly_rank').alias('highest_rank'))\\\n",
        "                             .sort('country_name')\n",
        "\n",
        "Countries_Show_list = Netflix_TV_temp.sort(col('country_name').asc(), col('max_weeks_in_top_10').desc()) \\\n",
        "                                     .groupBy('country_name')\\\n",
        "                                     .agg(F.first('show_title').alias('show_title'),\n",
        "                                          F.max('max_weeks_in_top_10').alias('max_weeks_in_top_10'),\n",
        "                                          F.first('highest_rank').alias('highest_rank'))\n",
        "                              \n",
        "Countries_Show_list.show(truncate = False)"
      ],
      "metadata": {
        "id": "4QEhv-T7VofT",
        "colab": {
          "base_uri": "https://localhost:8080/"
        },
        "outputId": "e9548097-7875-46b2-fb38-073761a2cb1f"
      },
      "execution_count": 17,
      "outputs": [
        {
          "output_type": "stream",
          "name": "stdout",
          "text": [
            "+------------------+----------------------+-------------------+------------+\n",
            "|country_name      |show_title            |max_weeks_in_top_10|highest_rank|\n",
            "+------------------+----------------------+-------------------+------------+\n",
            "|Argentina         |Pasión de Gavilanes   |33                 |4           |\n",
            "|Australia         |Animal Kingdom        |12                 |2           |\n",
            "|Austria           |Squid Game            |12                 |1           |\n",
            "|Bahamas           |SpongeBob SquarePants |15                 |3           |\n",
            "|Bahrain           |Squid Game            |16                 |1           |\n",
            "|Bangladesh        |Squid Game            |20                 |1           |\n",
            "|Belgium           |Money Heist           |12                 |1           |\n",
            "|Bolivia           |Yo soy Betty, la fea  |33                 |1           |\n",
            "|Brazil            |Chiquititas           |27                 |2           |\n",
            "|Bulgaria          |Squid Game            |16                 |1           |\n",
            "|Canada            |Maid                  |12                 |2           |\n",
            "|Chile             |Yo soy Betty, la fea  |33                 |1           |\n",
            "|Colombia          |Newly Rich, Newly Poor|33                 |1           |\n",
            "|Costa Rica        |Pasión de Gavilanes   |33                 |2           |\n",
            "|Croatia           |Squid Game            |15                 |1           |\n",
            "|Cyprus            |The Good Doctor       |16                 |1           |\n",
            "|Czech Republic    |Squid Game            |19                 |1           |\n",
            "|Denmark           |Squid Game            |11                 |1           |\n",
            "|Dominican Republic|Pasión de Gavilanes   |33                 |1           |\n",
            "|Ecuador           |Pasión de Gavilanes   |33                 |1           |\n",
            "+------------------+----------------------+-------------------+------------+\n",
            "only showing top 20 rows\n",
            "\n"
          ]
        }
      ]
    },
    {
      "cell_type": "markdown",
      "source": [
        "# Exercise 4 - Movie popularity on Netflix (15 Marks)\n",
        "\n",
        "1.   Calculate, for each Film, the number of weeks it spent in each country's number 1 spot, top 10 lists, and the highest weekly rank.\n",
        "2.   Produce a Dataframe that, for each Film, contains:\n",
        "    * the highest rank reached worldwide\n",
        "    * the highest number of weeks it spent in a single country's top 10\n",
        "    * the highest number of weeks it spent in a single country's number 1 spot\n",
        "    * the mean number of weeks it spent in the top 10 lists worldwide\n",
        "    * the mean number of weeks it spent in the number 1 spot worldwide\n",
        "    * the number of countries where it reached the top 10\n",
        "    * the number of countries where it reached the number 1 spot"
      ],
      "metadata": {
        "id": "RnLHTgim9UGE"
      }
    },
    {
      "cell_type": "code",
      "source": [
        "### Find the highest weekly rank for each film in each country\n",
        "### Calculate the number of weeks each film spent in each country's top 10\n",
        "### Calculate the number of weeks each film spent at number 1 in each country\n",
        "### Produce a DataFrame grouped by 'country_name' and 'show_title' and display\n",
        "# F.min, F.count_distinct, F.when, .otherwise, .groupBy, .agg, .sort, .show\n",
        "\n",
        "highest_rating = F.min('weekly_rank').alias('highest_rating')\n",
        "n_weeks = F.count_distinct('cumulative_weeks_in_top_10').alias('No_of_weeks_in_top_10')\n",
        "max_weeks_at1 = F.when(highest_rating == 1, F.count('cumulative_weeks_in_top_10')).otherwise(0).alias('weeks_at_no1')\n",
        "\n",
        "# Creating a temporary dataframe to get the highest rank anf no of weeks at top 10\n",
        "Films = Netflix_films.sort(col('weekly_rank'))\\\n",
        "                     .groupBy('country_name', 'show_title', 'weekly_rank')\\\n",
        "                     .agg(highest_rating,\n",
        "                          n_weeks,\n",
        "                          max_weeks_at1)\\\n",
        "                      .sort(col('country_name'))                                                      \n",
        "                     \n",
        "# Creating a Dataframe to get the weeks at number 1 by getting the max weeks from temporary table\n",
        "Films_country = Films.groupBy('country_name', 'show_title')\\\n",
        "                     .agg(highest_rating,\n",
        "                          F.sum('No_of_weeks_in_top_10').alias('No_of_weeks_in_top_10'),\n",
        "                          F.max('weeks_at_no1').alias('weeks_at_no1'))\\\n",
        "                     .sort(col('country_name'))\n",
        "\n",
        "                  \n",
        "                                                                \n",
        "Films_country.show(truncate = False)"
      ],
      "metadata": {
        "id": "uspu4EGZc1P3",
        "colab": {
          "base_uri": "https://localhost:8080/"
        },
        "outputId": "6ffb7c9d-5ad5-439c-8ef7-4ff615ec2ace"
      },
      "execution_count": 18,
      "outputs": [
        {
          "output_type": "stream",
          "name": "stdout",
          "text": [
            "+------------+--------------------------------+--------------+---------------------+------------+\n",
            "|country_name|show_title                      |highest_rating|No_of_weeks_in_top_10|weeks_at_no1|\n",
            "+------------+--------------------------------+--------------+---------------------+------------+\n",
            "|Argentina   |The Hand of God                 |7             |1                    |0           |\n",
            "|Argentina   |Mother/Android                  |2             |2                    |0           |\n",
            "|Argentina   |Esperando la carroza            |7             |1                    |0           |\n",
            "|Argentina   |He's All That                   |2             |3                    |0           |\n",
            "|Argentina   |Fear Street Part 3: 1666        |5             |2                    |0           |\n",
            "|Argentina   |The Transporter Refueled        |8             |1                    |0           |\n",
            "|Argentina   |The 2nd                         |9             |1                    |0           |\n",
            "|Argentina   |The Possession of Hannah Grace  |3             |1                    |0           |\n",
            "|Argentina   |The Royal Treatment             |1             |2                    |1           |\n",
            "|Argentina   |Faster                          |10            |1                    |0           |\n",
            "|Argentina   |The Guilty                      |1             |3                    |2           |\n",
            "|Argentina   |Love Hard                       |2             |3                    |0           |\n",
            "|Argentina   |Night School                    |9             |1                    |0           |\n",
            "|Argentina   |Blood Red Sky                   |1             |3                    |2           |\n",
            "|Argentina   |The Harder They Fall            |2             |2                    |0           |\n",
            "|Argentina   |My Father's Violin              |4             |1                    |0           |\n",
            "|Argentina   |Dora and the Lost City of Gold  |7             |1                    |0           |\n",
            "|Argentina   |Trollhunters: Rise of the Titans|3             |1                    |0           |\n",
            "|Argentina   |A Boy Called Christmas          |6             |2                    |0           |\n",
            "|Argentina   |The Starling                    |2             |2                    |0           |\n",
            "+------------+--------------------------------+--------------+---------------------+------------+\n",
            "only showing top 20 rows\n",
            "\n"
          ]
        }
      ]
    },
    {
      "cell_type": "code",
      "source": [
        "### Find the highest weekly rank reached worldwide for each film\n",
        "### Calculate the maximum and mean weeks each film was at number 1\n",
        "### Calculate the maximum and mean weeks each film was in the top 10\n",
        "### Count the countries where each film reached the top 10 and number 1\n",
        "### Produce a DataFrame grouped by 'show_title' and display\n",
        "# F.min, F.max, F.mean, F.count_distinct, F.when, .otherwise, .groupBy, .agg,\n",
        "# .sort, .show\n",
        "\n",
        "max_weeks = F.max('No_of_weeks_in_top_10').alias('max_weeks_in_top10')\n",
        "mean_weeks = F.mean('No_of_weeks_in_top_10').alias('mean_weeks_in_top10')\n",
        "max_weeks_at1 = F.max('weeks_at_no1').alias('max_weeks_at_no1')\n",
        "mean_weeks_at1 = F.mean('weeks_at_no1').alias('mean_weeks_at_no1')\n",
        "n_countries_at1 = F.count_distinct('weeks_at_no1').alias('no_of_countries_at1')\n",
        "country_count_top10 = F.count_distinct('country_name').alias('no_of_countries_top10')\n",
        "\n",
        "# Getting the required details into one dataframe\n",
        "Films_worldwide = Films_country.sort('show_title')\\\n",
        "                               .groupBy('show_title')\\\n",
        "                               .agg(max_weeks,\n",
        "                                    mean_weeks,\n",
        "                                    max_weeks_at1, \n",
        "                                    mean_weeks_at1,\n",
        "                                    country_count_top10,\n",
        "                                    n_countries_at1) \\\n",
        "                               .sort(col('show_title').asc())\n",
        "\n",
        "                   \n",
        "Films_worldwide.show(truncate = False)\n",
        "\n"
      ],
      "metadata": {
        "id": "7AUciKugdkQU",
        "colab": {
          "base_uri": "https://localhost:8080/"
        },
        "outputId": "36b7f511-3ba4-491f-894b-c1d849d1d1ea"
      },
      "execution_count": 32,
      "outputs": [
        {
          "output_type": "stream",
          "name": "stdout",
          "text": [
            "+-----------------------------------------+------------------+-------------------+----------------+-------------------+---------------------+-------------------+\n",
            "|show_title                               |max_weeks_in_top10|mean_weeks_in_top10|max_weeks_at_no1|mean_weeks_at_no1  |no_of_countries_top10|no_of_countries_at1|\n",
            "+-----------------------------------------+------------------+-------------------+----------------+-------------------+---------------------+-------------------+\n",
            "|null                                     |0                 |0.0                |0               |0.0                |1                    |1                  |\n",
            "|'76                                      |2                 |2.0                |0               |0.0                |1                    |1                  |\n",
            "|10 Cloverfield Lane                      |1                 |1.0                |0               |0.0                |3                    |1                  |\n",
            "|1000 Miles from Christmas                |2                 |1.6666666666666667 |0               |0.0                |12                   |1                  |\n",
            "|12 Gifts of Christmas                    |1                 |1.0                |0               |0.0                |1                    |1                  |\n",
            "|12 Strong                                |2                 |1.5                |0               |0.0                |2                    |1                  |\n",
            "|13 Going on 30                           |2                 |1.1666666666666667 |0               |0.0                |6                    |1                  |\n",
            "|13 Hours: The Secret Soldiers of Benghazi|3                 |1.9069767441860466 |2               |0.11627906976744186|43                   |3                  |\n",
            "|14 Peaks: Nothing Is Impossible          |4                 |1.4473684210526316 |1               |0.05263157894736842|38                   |2                  |\n",
            "|1917                                     |2                 |1.7                |0               |0.0                |10                   |1                  |\n",
            "|2 Weeks in Lagos                         |3                 |3.0                |1               |1.0                |1                    |1                  |\n",
            "|2012                                     |1                 |1.0                |0               |0.0                |3                    |1                  |\n",
            "|21                                       |1                 |1.0                |0               |0.0                |1                    |1                  |\n",
            "|21 Bridges                               |2                 |1.5714285714285714 |0               |0.0                |7                    |1                  |\n",
            "|211                                      |1                 |1.0                |0               |0.0                |19                   |1                  |\n",
            "|22 July                                  |2                 |2.0                |0               |0.0                |1                    |1                  |\n",
            "|3 Days to Kill                           |1                 |1.0                |0               |0.0                |1                    |1                  |\n",
            "|3 Idiots                                 |4                 |4.0                |0               |0.0                |2                    |1                  |\n",
            "|300                                      |1                 |1.0                |0               |0.0                |2                    |1                  |\n",
            "|300: Rise of an Empire                   |2                 |1.5                |0               |0.0                |4                    |1                  |\n",
            "+-----------------------------------------+------------------+-------------------+----------------+-------------------+---------------------+-------------------+\n",
            "only showing top 20 rows\n",
            "\n"
          ]
        }
      ]
    }
  ]
}